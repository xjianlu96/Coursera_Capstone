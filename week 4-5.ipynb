{
 "cells": [
  {
   "cell_type": "markdown",
   "metadata": {},
   "source": [
    "# Capstone Project - The Battle of the Neighborhoods "
   ]
  },
  {
   "cell_type": "markdown",
   "metadata": {},
   "source": [
    "## Introduction: Business Problem <a name=\"introduction\"></a>"
   ]
  },
  {
   "cell_type": "markdown",
   "metadata": {},
   "source": [
    "In this project we are going to find a location in Toronto to open a restaurant. This report will be targeted to stakeholders interested in opening an **Chinese restaurant** in **Toronto**, Canada.\n",
    "\n",
    "Since Toronto is a well-diversified city, you can find cuisines from all over the world. Toronto has handreds of thousands Chinese people. There are lots of authentic Chinese food in Greater Toronto Area. We are looking for locations where there are few Chinese food and locations near city centre\n",
    "\n",
    "We are going to use data science to observe neighborhoods that meet our criterias.We will deliver the advantages of each locations so the stakeholders can make best possible decisions"
   ]
  },
  {
   "cell_type": "markdown",
   "metadata": {},
   "source": [
    "## Data"
   ]
  },
  {
   "cell_type": "markdown",
   "metadata": {},
   "source": [
    "We are going to investigate the following points to make decisions:\n",
    "* the number of restaurants in each neighborhood\n",
    "* number of and distance to Chinese restaurants\n",
    "* the distance from Chinese restaurants to the city centre\n",
    "\n",
    "We are going to leverage the Foursquare (Foursquare API) location data to explore the number of restaurants and the cuisine in every neighborhood"
   ]
  },
  {
   "cell_type": "code",
   "execution_count": null,
   "metadata": {},
   "outputs": [],
   "source": []
  }
 ],
 "metadata": {
  "kernelspec": {
   "display_name": "Python 3",
   "language": "python",
   "name": "python3"
  },
  "language_info": {
   "codemirror_mode": {
    "name": "ipython",
    "version": 3
   },
   "file_extension": ".py",
   "mimetype": "text/x-python",
   "name": "python",
   "nbconvert_exporter": "python",
   "pygments_lexer": "ipython3",
   "version": "3.8.2"
  }
 },
 "nbformat": 4,
 "nbformat_minor": 4
}
