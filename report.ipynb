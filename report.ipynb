{
 "cells": [
  {
   "cell_type": "markdown",
   "metadata": {},
   "source": [
    "# Capstone Project - The Battle of the Neighborhoods \n"
   ]
  },
  {
   "cell_type": "markdown",
   "metadata": {},
   "source": [
    "## Introduction: Business Problem "
   ]
  },
  {
   "cell_type": "markdown",
   "metadata": {},
   "source": [
    "In this project we are going to find a location in Toronto to open a restaurant. This report will be targeted to stakeholders interested in opening an Chinese restaurant in Toronto, Canada.\n",
    "\n",
    "Since Toronto is a well-diversified city, you can find cuisines from all over the world. Toronto has handreds of thousands Chinese people. There are lots of authentic Chinese food in Greater Toronto Area. We are looking for locations where there are few Chinese food and locations near city centre\n",
    "\n",
    "We are going to use data science to observe neighborhoods that meet our criterias.We will deliver the advantages of each locations so the stakeholders can make best possible decisions"
   ]
  },
  {
   "cell_type": "markdown",
   "metadata": {},
   "source": [
    "## Data"
   ]
  },
  {
   "cell_type": "markdown",
   "metadata": {},
   "source": [
    "We are going to investigate the following points to make decisions:\n",
    "* the number of restaurants in each neighborhood\n",
    "* number of and distance to Chinese restaurants\n",
    "* the distance from Chinese restaurants to the city centre\n",
    "\n",
    "We find the lagtitude and longtitude of each neighborhood in Toronto, tranfered the lagtitude and longtitude into X/Y co-ordinates to find out the distance of each neighborhood to Toronto city centre and visualized each neighborhood in folium map. We also leverage the Foursquare (Foursquare API) location data to explore the Chinese restaurants in each neighborhood"
   ]
  },
  {
   "cell_type": "markdown",
   "metadata": {},
   "source": [
    "## Methodology"
   ]
  },
  {
   "cell_type": "markdown",
   "metadata": {},
   "source": [
    "In this project we are going to implement two selection process and ensemble them together to deliver a result\n",
    "\n",
    "The first process is to find out how many Chinese restaurants in each neighborhood and the distance of each neighborhood to Toronto city centre (Yonge-Dundas Square). we find the neighborhood(s) that will few Chinese restaurants but with moderate distance\n",
    "\n",
    "The second process is to find out the distance of each restaurant to Toronto centre(Yonge-Dundas Square), grouped by neighborhood ,find the mean value of the distance to Toronto centre within each neighborhood.\n",
    "\n",
    "Finally find the intersection of the two results and narrow it down"
   ]
  },
  {
   "cell_type": "markdown",
   "metadata": {},
   "source": [
    "# Method 1"
   ]
  },
  {
   "cell_type": "markdown",
   "metadata": {},
   "source": [
    "We first perform some basic data analysis techniques to explore the data, first we are going to observe the number of Chinese restaurants in each Neighborhood. And We can observe that the top 5 neighborhoods are located in Toronto downtown area "
   ]
  },
  {
   "cell_type": "markdown",
   "metadata": {},
   "source": [
    "We have already finished the first method and demostrated the dataframe indicates the number of Chinese resatuant and the distance to city centre, we find that most neighborhoods with high number of Chinese restaurant are either located in Downtown Toronto or pretty far away from Toronto centre and that makes sense. These neighborhoods are out of considerations because it could be too competitive. but there are a few communities near Toronto Centre but with fewer Chinese restaurants. they are Berczy Park, The Annex, North Midtown, Yorkville and East Toronto, Harbourfront East, Union Station, Toronto Islands, Broadview North (Old East York). these neighborhoods have around 20 Chinese restaurants means that Chinese food are still popular but not too competitive"
   ]
  },
  {
   "cell_type": "markdown",
   "metadata": {},
   "source": [
    "# Method 2"
   ]
  },
  {
   "cell_type": "markdown",
   "metadata": {},
   "source": [
    "We have already completed the second selection process and demostrated the above dataframe. We can observe that most neighborhood near Toronto centre have many Chinese restaurant (around 50) we observe **Berczy Park, Harbourfront East, Union Station, Toronto Islands, Harbourfront,St.,Regent Park, Harbourfront, James Town, Cabbagetown,The Annex, North Midtown, Yorkville** are good place to open Chinese restauarants"
   ]
  },
  {
   "cell_type": "markdown",
   "metadata": {},
   "source": [
    "# Heat Map"
   ]
  },
  {
   "cell_type": "code",
   "execution_count": null,
   "metadata": {},
   "outputs": [],
   "source": []
  }
 ],
 "metadata": {
  "kernelspec": {
   "display_name": "Python 3",
   "language": "python",
   "name": "python3"
  },
  "language_info": {
   "codemirror_mode": {
    "name": "ipython",
    "version": 3
   },
   "file_extension": ".py",
   "mimetype": "text/x-python",
   "name": "python",
   "nbconvert_exporter": "python",
   "pygments_lexer": "ipython3",
   "version": "3.8.2"
  }
 },
 "nbformat": 4,
 "nbformat_minor": 4
}
